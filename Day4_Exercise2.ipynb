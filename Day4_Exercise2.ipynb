{
 "cells": [
  {
   "cell_type": "code",
   "execution_count": 7,
   "metadata": {},
   "outputs": [],
   "source": [
    "class employee:\n",
    "    def __init__(self, emp_id, emp_name, emp_salary, emp_department):\n",
    "        self.emp_id = emp_id\n",
    "        self.emp_name = emp_name\n",
    "        self.emp_salary = emp_salary\n",
    "        self.emp_department = emp_department\n",
    "\n",
    "    def assign_department(self, new_department):\n",
    "        self.new_department = new_department\n",
    "        return f'new department assigned'\n",
    "    \n",
    "    def print_employee_details(self):\n",
    "        print(f\"Employee ID: {self.emp_id}\")\n",
    "        print(f\"Employee Name : {self.emp_name}\")\n",
    "        print(f\"Employee Salary : {self.emp_salary}\")\n",
    "        print(f\"Employee Department : {self.emp_department}\")\n",
    "\n",
    "    def calculate_emp_salary(self, hours_worked):\n",
    "        if hours_worked > 50:\n",
    "            overtime = hours_worked - 50\n",
    "            bonus = (overtime * (self.emp_salary/50))\n",
    "            total = self.emp_salary + bonus\n",
    "        else :\n",
    "            return self.emp_salary\n",
    "        return total"
   ]
  },
  {
   "cell_type": "code",
   "execution_count": 8,
   "metadata": {},
   "outputs": [],
   "source": [
    "adams = employee(\"E7876\", \"ADAMS\", 50000, \"ACCOUNTING\")"
   ]
  },
  {
   "cell_type": "code",
   "execution_count": 11,
   "metadata": {},
   "outputs": [
    {
     "name": "stdout",
     "output_type": "stream",
     "text": [
      "Employee ID: E7876\n",
      "Employee Name : ADAMS\n",
      "Employee Salary : 50000\n",
      "Employee Department : ACCOUNTING\n",
      "Total Salary: 55000.0\n"
     ]
    }
   ],
   "source": [
    "# Changing department of an employee\n",
    "adams.assign_department(\"HR\")\n",
    "\n",
    "# Printing employee details\n",
    "adams.print_employee_details()\n",
    "\n",
    "# Calculating employee salary\n",
    "hours_worked = 55\n",
    "total_salary = adams.calculate_emp_salary(hours_worked)\n",
    "print(f\"Total Salary: {total_salary}\")"
   ]
  }
 ],
 "metadata": {
  "kernelspec": {
   "display_name": "base",
   "language": "python",
   "name": "python3"
  },
  "language_info": {
   "codemirror_mode": {
    "name": "ipython",
    "version": 3
   },
   "file_extension": ".py",
   "mimetype": "text/x-python",
   "name": "python",
   "nbconvert_exporter": "python",
   "pygments_lexer": "ipython3",
   "version": "3.12.4"
  }
 },
 "nbformat": 4,
 "nbformat_minor": 2
}
