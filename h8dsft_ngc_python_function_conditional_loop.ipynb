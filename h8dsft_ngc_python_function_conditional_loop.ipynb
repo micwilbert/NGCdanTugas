{
 "cells": [
  {
   "cell_type": "markdown",
   "metadata": {},
   "source": [
    "#Task 1"
   ]
  },
  {
   "cell_type": "code",
   "execution_count": 1,
   "metadata": {},
   "outputs": [
    {
     "name": "stdout",
     "output_type": "stream",
     "text": [
      "4\n"
     ]
    }
   ],
   "source": [
    "def number_of_words(kalimat):\n",
    "    words = kalimat.split()\n",
    "    jumlah_kata = len(words)\n",
    "\n",
    "    return jumlah_kata\n",
    "\n",
    "\n",
    "kalimat = input(number_of_words)\n",
    "\n",
    "print(number_of_words(kalimat))"
   ]
  },
  {
   "cell_type": "markdown",
   "metadata": {},
   "source": [
    "#Task 2"
   ]
  },
  {
   "cell_type": "code",
   "execution_count": 2,
   "metadata": {},
   "outputs": [
    {
     "name": "stdout",
     "output_type": "stream",
     "text": [
      "[5, 10]\n"
     ]
    }
   ],
   "source": [
    "def find_multiples(start_range, end_range, multiple):\n",
    "    multiple_result = []\n",
    "\n",
    "    for number in range(start_range, end_range+1):\n",
    "        if number % multiple == 0:\n",
    "            multiple_result.append(number)\n",
    "    return multiple_result\n",
    "\n",
    "start_range = int(input(\"Masukkan start range :\"))\n",
    "end_range = int(input(\"Masukkan batas end range :\"))\n",
    "multiple = int(input(\"Masukkan pengali:\"))\n",
    "\n",
    "print(find_multiples(start_range, end_range, multiple))"
   ]
  },
  {
   "cell_type": "markdown",
   "metadata": {},
   "source": [
    "#Task 3"
   ]
  },
  {
   "cell_type": "code",
   "execution_count": 3,
   "metadata": {},
   "outputs": [
    {
     "name": "stdout",
     "output_type": "stream",
     "text": [
      "{'Adam': 2.5, 'Faiz': 4.0}\n",
      "{'Albert': 'A', 'Dwi': 'B', 'Syahdan': 'D', 'Veronica': 'B'}\n"
     ]
    }
   ],
   "source": [
    "def Grade_Converter(convert_to, **kwargs):\n",
    "    def score_to_letter(score):\n",
    "        if score >= 85:\n",
    "            return 'A'\n",
    "        elif score >= 70:\n",
    "            return 'B'\n",
    "        elif score >= 60:\n",
    "            return 'C'\n",
    "        elif score >= 50:\n",
    "            return 'D'\n",
    "        elif score >= 40:\n",
    "            return 'E'\n",
    "        elif score >= 0:\n",
    "            return 'F'\n",
    "\n",
    "    def score_to_GPA(score):\n",
    "        if score >= 85:\n",
    "            return 4.0\n",
    "        elif score >= 70:\n",
    "            return 3.0\n",
    "        elif score >= 60:\n",
    "            return 2.5\n",
    "        elif score >= 50:\n",
    "            return 2.0\n",
    "        elif score >= 40:\n",
    "            return 1.5\n",
    "        elif score >= 0:\n",
    "            return 1.0\n",
    "\n",
    "    result = {}\n",
    "\n",
    "    for student, score in kwargs.items():\n",
    "        if convert_to == 'GPA':\n",
    "            result[student] = score_to_GPA(score)\n",
    "        elif convert_to == 'Letter Grade':\n",
    "            result[student] = score_to_letter(score)\n",
    "        else:\n",
    "            print(\"Invalid value for convert_to. Use 'GPA' or 'Letter Grade'.\")\n",
    "            return None\n",
    "\n",
    "    return result\n",
    "\n",
    "\n",
    "output = Grade_Converter(convert_to='GPA', Adam=62, Faiz=91)\n",
    "print(output) \n",
    "output = Grade_Converter(convert_to='Letter Grade', Albert=90, Dwi=82, Syahdan=58, Veronica=84)\n",
    "print(output) "
   ]
  },
  {
   "cell_type": "markdown",
   "metadata": {},
   "source": [
    "#Task 4"
   ]
  },
  {
   "cell_type": "code",
   "execution_count": 4,
   "metadata": {},
   "outputs": [
    {
     "name": "stdout",
     "output_type": "stream",
     "text": [
      "Output : '144'\n"
     ]
    }
   ],
   "source": [
    "def fibonacci(n):\n",
    "    if n == 0:\n",
    "        return 0\n",
    "    elif n == 1:\n",
    "        return 1\n",
    "    \n",
    "    a, b = 0, 1\n",
    "    \n",
    "    for i in range(2, n + 1):\n",
    "        a, b = b, a + b\n",
    "    \n",
    "    return b\n",
    "\n",
    "def my_function(n):\n",
    "    if n >= 0:\n",
    "        result = fibonacci(n)\n",
    "        print(f\"Output : '{result}'\")\n",
    "    else:\n",
    "        print(\"Output : 'Invalid input'\")\n",
    "\n",
    "input_value = input(\"Input : my_function(n=\") \n",
    "\n",
    "n = int(input_value)\n",
    "my_function(n)"
   ]
  }
 ],
 "metadata": {
  "kernelspec": {
   "display_name": "base",
   "language": "python",
   "name": "python3"
  },
  "language_info": {
   "codemirror_mode": {
    "name": "ipython",
    "version": 3
   },
   "file_extension": ".py",
   "mimetype": "text/x-python",
   "name": "python",
   "nbconvert_exporter": "python",
   "pygments_lexer": "ipython3",
   "version": "3.12.4"
  }
 },
 "nbformat": 4,
 "nbformat_minor": 2
}
