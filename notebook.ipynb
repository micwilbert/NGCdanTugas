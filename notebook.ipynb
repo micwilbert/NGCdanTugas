{
 "cells": [
  {
   "cell_type": "markdown",
   "metadata": {},
   "source": [
    "# Kode Python Pertama"
   ]
  },
  {
   "cell_type": "code",
   "execution_count": 1,
   "metadata": {},
   "outputs": [
    {
     "name": "stdout",
     "output_type": "stream",
     "text": [
      "Hello World\n"
     ]
    }
   ],
   "source": [
    "print('Hello World')"
   ]
  },
  {
   "cell_type": "markdown",
   "metadata": {},
   "source": [
    "Kode di atas digunakan untuk menghasilkan tulisan `Hello World`"
   ]
  },
  {
   "cell_type": "code",
   "execution_count": 2,
   "metadata": {},
   "outputs": [],
   "source": [
    "a=10"
   ]
  },
  {
   "cell_type": "markdown",
   "metadata": {},
   "source": [
    "Kode di atas melakukan penyimpanan variable a dengan nilai 10"
   ]
  },
  {
   "cell_type": "markdown",
   "metadata": {},
   "source": [
    "Gunakan `-` untuk membuat list:"
   ]
  },
  {
   "cell_type": "markdown",
   "metadata": {},
   "source": [
    "- Gunakan `**` untuk menghasilkan tulisan  **BOLD**\n",
    "- Gunakan `*` untuk menghasilkan *italic*\n",
    "- Gunakan `***` untuk menghasilkan ***BOLD ITALIC***"
   ]
  },
  {
   "cell_type": "markdown",
   "metadata": {},
   "source": [
    "# How to Clone Github Repository"
   ]
  },
  {
   "cell_type": "markdown",
   "metadata": {},
   "source": [
    "- 1. pilih dimana repo ingin di `clone` di PC\n",
    "- 2. `git clone <URL repo>`"
   ]
  },
  {
   "cell_type": "markdown",
   "metadata": {},
   "source": [
    "# How to Commit to Github Repository"
   ]
  },
  {
   "cell_type": "markdown",
   "metadata": {},
   "source": [
    "1. track perubahan dengan `git add <nama file>` atau pada nama file diganti dengan `.` untuk representasi semua file\n",
    "2. commit dengan `git commit -m \"<message>\"`\n",
    "3. untuk upload ke repo github gunakan `git push`. hasil commit terakhir akan diupload."
   ]
  }
 ],
 "metadata": {
  "kernelspec": {
   "display_name": "rmt_37",
   "language": "python",
   "name": "python3"
  },
  "language_info": {
   "codemirror_mode": {
    "name": "ipython",
    "version": 3
   },
   "file_extension": ".py",
   "mimetype": "text/x-python",
   "name": "python",
   "nbconvert_exporter": "python",
   "pygments_lexer": "ipython3",
   "version": "3.9.19"
  }
 },
 "nbformat": 4,
 "nbformat_minor": 2
}
