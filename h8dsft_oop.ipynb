{
 "cells": [
  {
   "cell_type": "markdown",
   "metadata": {},
   "source": [
    "#Non Graded Challenge : OOP and Exception Handling"
   ]
  },
  {
   "cell_type": "code",
   "execution_count": 3,
   "metadata": {},
   "outputs": [],
   "source": [
    "class Book:\n",
    "    #mendefinisikan kelas Book\n",
    "    def __init__(self,title, author, book_id):\n",
    "    #meninisiasi title, author dan ref id dari buku\n",
    "        self.title = title\n",
    "        self.author = author\n",
    "        self.book_id = book_id\n",
    "    def __str__(self):\n",
    "    #menampilkan judul, penulis dan id dari buku\n",
    "        return f\"Title : {self.title}, Author : {self.author}, ID : {self.book_id}\" \n",
    "\n",
    "class LibCatalog:\n",
    "    #membuat catalog untuk isi lib\n",
    "    def __init__(self):\n",
    "        self.catalog = {}\n",
    "\n",
    "    #menambah buku\n",
    "    def add_book(self, book):\n",
    "        self.catalog[book.book_id] = book\n",
    "        print(f\"Book '{book.title}' added sucessfully.\")\n",
    "\n",
    "    #mengurangi buku\n",
    "    def remove_book(self,book_id):\n",
    "        if book_id in self.catalog:\n",
    "            remove_book = self.catalog.pop(book_id)\n",
    "            print(f\"Book '{remove_book.title}' removed sucessfully.\")\n",
    "        else:\n",
    "            print(f\"Error : Book ID not found\") \n",
    "\n",
    "    #cari buku berdasarkan judul\n",
    "    def search_title(self,title):\n",
    "        found_books = [book for book in self.catalog.values() if title.lower() in book.title.lower()]\n",
    "        if found_books:\n",
    "            print(f\"Books found with title'{title}':\")\n",
    "            for book in found_books:\n",
    "                print(book)\n",
    "        else:\n",
    "            print(f\"No books found by title '{title}.\")\n",
    "    \n",
    "    #cari buku berdasarkan penulis\n",
    "    def search_author(self,author):\n",
    "        found_books = [book for book in self.catalog.values() if author.lower() in book.author.lower()]\n",
    "        if found_books:\n",
    "            print(f\"Books found by author '{author}':\")\n",
    "            for book in found_books:\n",
    "                print(book)\n",
    "        else:\n",
    "            print(f\"No books found by author '{author}.\")\n",
    "    \n",
    "    #mengeluarkan semua isi buku\n",
    "    def display_books(self):\n",
    "        if self.catalog:\n",
    "            print(\"Current books in the catalog:\")\n",
    "            for book in self.catalog.values():\n",
    "                print(book)\n",
    "        else:\n",
    "            print(\"The catalog is empty.\")  "
   ]
  },
  {
   "cell_type": "code",
   "execution_count": 4,
   "metadata": {},
   "outputs": [
    {
     "name": "stdout",
     "output_type": "stream",
     "text": [
      "Book 'Bobo' added sucessfully.\n",
      "Book 'Naruto' added sucessfully.\n"
     ]
    }
   ],
   "source": [
    "library = LibCatalog()\n",
    "book1 = Book(\"Bobo\", \"Gramedia\", 1)\n",
    "book2 = Book(\"Naruto\", \"Masashi Kishimoto\", 2)\n",
    "\n",
    "library.add_book(book1)\n",
    "library.add_book(book2)"
   ]
  },
  {
   "cell_type": "code",
   "execution_count": 5,
   "metadata": {},
   "outputs": [
    {
     "name": "stdout",
     "output_type": "stream",
     "text": [
      "Current books in the catalog:\n",
      "Title : Bobo, Author : Gramedia, ID : 1\n",
      "Title : Naruto, Author : Masashi Kishimoto, ID : 2\n"
     ]
    }
   ],
   "source": [
    "library.display_books()"
   ]
  },
  {
   "cell_type": "code",
   "execution_count": 6,
   "metadata": {},
   "outputs": [
    {
     "name": "stdout",
     "output_type": "stream",
     "text": [
      "Books found by author 'Gramedia':\n",
      "Title : Bobo, Author : Gramedia, ID : 1\n"
     ]
    }
   ],
   "source": [
    "library.search_author(\"Gramedia\")"
   ]
  },
  {
   "cell_type": "code",
   "execution_count": 7,
   "metadata": {},
   "outputs": [
    {
     "name": "stdout",
     "output_type": "stream",
     "text": [
      "Books found with title'Naruto':\n",
      "Title : Naruto, Author : Masashi Kishimoto, ID : 2\n"
     ]
    }
   ],
   "source": [
    "library.search_title(\"Naruto\")"
   ]
  },
  {
   "cell_type": "code",
   "execution_count": 8,
   "metadata": {},
   "outputs": [
    {
     "name": "stdout",
     "output_type": "stream",
     "text": [
      "Book 'Bobo' removed sucessfully.\n"
     ]
    }
   ],
   "source": [
    "library.remove_book(1)"
   ]
  }
 ],
 "metadata": {
  "kernelspec": {
   "display_name": "base",
   "language": "python",
   "name": "python3"
  },
  "language_info": {
   "codemirror_mode": {
    "name": "ipython",
    "version": 3
   },
   "file_extension": ".py",
   "mimetype": "text/x-python",
   "name": "python",
   "nbconvert_exporter": "python",
   "pygments_lexer": "ipython3",
   "version": "3.12.4"
  }
 },
 "nbformat": 4,
 "nbformat_minor": 2
}
